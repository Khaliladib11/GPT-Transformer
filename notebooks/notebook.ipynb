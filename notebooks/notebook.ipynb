{
 "cells": [
  {
   "cell_type": "markdown",
   "id": "9d2eada9-13e3-4ae4-bf4c-f846ff2f06f1",
   "metadata": {
    "tags": []
   },
   "source": [
    "# Exploration Notebook"
   ]
  },
  {
   "cell_type": "markdown",
   "id": "309d65c2-b069-4bf2-a952-0945bf707f9a",
   "metadata": {
    "jp-MarkdownHeadingCollapsed": true,
    "tags": []
   },
   "source": [
    "## Import Libraries"
   ]
  },
  {
   "cell_type": "code",
   "execution_count": 145,
   "id": "daa0785e-50f5-4024-be4b-428a9af24b9b",
   "metadata": {},
   "outputs": [],
   "source": [
    "import os\n",
    "import matplotlib.pyplot as plt\n",
    "\n",
    "import torch\n",
    "import torch.nn as nn\n",
    "from torch.nn import functional as F"
   ]
  },
  {
   "cell_type": "code",
   "execution_count": 2,
   "id": "1ea165c8",
   "metadata": {},
   "outputs": [
    {
     "name": "stdout",
     "output_type": "stream",
     "text": [
      "2.0.1\n"
     ]
    }
   ],
   "source": [
    "print(torch.__version__)"
   ]
  },
  {
   "cell_type": "markdown",
   "id": "d5bd7456-d4ff-4ccf-81be-fedb1781131b",
   "metadata": {
    "jp-MarkdownHeadingCollapsed": true,
    "tags": []
   },
   "source": [
    "## Useful Functions"
   ]
  },
  {
   "cell_type": "code",
   "execution_count": 3,
   "id": "5f8295a4-455a-497f-84fd-bd36a2612685",
   "metadata": {},
   "outputs": [],
   "source": [
    "def read_data(data_path):\n",
    "    with open(data_path, 'r') as file:\n",
    "        data = file.read()\n",
    "        \n",
    "    return data"
   ]
  },
  {
   "cell_type": "markdown",
   "id": "bef4584c-a9ac-49d4-b9fa-54d8a93e82e6",
   "metadata": {
    "jp-MarkdownHeadingCollapsed": true,
    "tags": []
   },
   "source": [
    "## Load Data"
   ]
  },
  {
   "cell_type": "code",
   "execution_count": 5,
   "id": "47358a50-d87e-46a6-a4f7-7bf2f1158227",
   "metadata": {},
   "outputs": [],
   "source": [
    "text = read_data('../data/input.txt')"
   ]
  },
  {
   "cell_type": "code",
   "execution_count": 9,
   "id": "c8d280fc-205a-413e-bb38-929d5aaec151",
   "metadata": {},
   "outputs": [
    {
     "name": "stdout",
     "output_type": "stream",
     "text": [
      "First Citizen:\n",
      "Before we proceed any further, hear me speak.\n",
      "\n",
      "All:\n",
      "Speak, speak.\n",
      "\n",
      "First Citizen:\n",
      "You\n"
     ]
    }
   ],
   "source": [
    "print(text[:100])"
   ]
  },
  {
   "cell_type": "markdown",
   "id": "f97ac739-c4c2-44db-b3b5-d1f85924592b",
   "metadata": {
    "jp-MarkdownHeadingCollapsed": true,
    "tags": []
   },
   "source": [
    "## Tokenization"
   ]
  },
  {
   "cell_type": "code",
   "execution_count": 19,
   "id": "a1963da1-c28f-4367-bce3-e2a6393e2357",
   "metadata": {},
   "outputs": [
    {
     "name": "stdout",
     "output_type": "stream",
     "text": [
      "We have 65 vocabulary in our dataset\n",
      "All characters: \n",
      " !$&',-.3:;?ABCDEFGHIJKLMNOPQRSTUVWXYZabcdefghijklmnopqrstuvwxyz\n"
     ]
    }
   ],
   "source": [
    "all_chars = sorted(list(set(text)))\n",
    "vocab_size = len(all_chars)\n",
    "\n",
    "print(f\"We have {vocab_size} vocabulary in our dataset\")\n",
    "print(f\"All characters: { ''.join(all_chars) }\")"
   ]
  },
  {
   "cell_type": "markdown",
   "id": "fb955357-b00b-4ddb-badb-3199eb204336",
   "metadata": {},
   "source": [
    "We must now tokenize the text at character level, in order to do that, we must create:\n",
    "- **Encoder**: which converts the character to numerical representation.\n",
    "- **Decoder**: which converts the numerical representation to character again."
   ]
  },
  {
   "cell_type": "code",
   "execution_count": 20,
   "id": "19877dc6-043b-4cf6-b9ab-efacda83ff95",
   "metadata": {},
   "outputs": [],
   "source": [
    "# Create two ways mapping\n",
    "c2i = { char:idx for idx, char in enumerate(all_chars) }\n",
    "i2c = { idx:char for idx, char in enumerate(all_chars) }\n",
    "\n",
    "encoder = lambda string: [ c2i[char] for char in string ]\n",
    "decoder = lambda indexes: \"\".join([ i2c[idx] for idx in indexes ])"
   ]
  },
  {
   "cell_type": "code",
   "execution_count": 21,
   "id": "00b9431c-c3c5-44f0-a349-7a116984827a",
   "metadata": {},
   "outputs": [
    {
     "name": "stdout",
     "output_type": "stream",
     "text": [
      "Hello my name is Khalil!\n",
      "[20, 43, 50, 50, 53, 1, 51, 63, 1, 52, 39, 51, 43, 1, 47, 57, 1, 23, 46, 39, 50, 47, 50, 2]\n",
      "Hello my name is Khalil!\n"
     ]
    }
   ],
   "source": [
    "test_phrase = \"Hello my name is Khalil!\"\n",
    "print(test_phrase)\n",
    "print(encoder(test_phrase))\n",
    "print(decoder(encoder(test_phrase)))"
   ]
  },
  {
   "cell_type": "markdown",
   "id": "57455ef4-6b10-495d-a280-837649e954c0",
   "metadata": {},
   "source": [
    "Now we will tokenize the whole training set. We will start using **torch** library."
   ]
  },
  {
   "cell_type": "code",
   "execution_count": 22,
   "id": "32c538cf-5b86-4768-a1d3-897fd3b14c64",
   "metadata": {},
   "outputs": [],
   "source": [
    "data = torch.tensor(encoder(text), dtype=torch.long)"
   ]
  },
  {
   "cell_type": "code",
   "execution_count": 23,
   "id": "efc01d25-eecf-4c8f-87c8-9e64d344404e",
   "metadata": {},
   "outputs": [
    {
     "name": "stdout",
     "output_type": "stream",
     "text": [
      "We've got: torch.Size([1115394]) shape and torch.int64 Tensor's type.\n"
     ]
    }
   ],
   "source": [
    "print(f\"We've got: {data.shape} shape and {data.dtype} Tensor's type.\")"
   ]
  },
  {
   "cell_type": "markdown",
   "id": "303b367c-da3b-41df-84ff-37399fba89e0",
   "metadata": {
    "jp-MarkdownHeadingCollapsed": true,
    "tags": []
   },
   "source": [
    "## Split Data to Train, Eval and Test sets"
   ]
  },
  {
   "cell_type": "code",
   "execution_count": 25,
   "id": "3c624098-1c8e-4222-972b-ba63efb7dad3",
   "metadata": {},
   "outputs": [
    {
     "data": {
      "text/plain": [
       "1115394"
      ]
     },
     "execution_count": 25,
     "metadata": {},
     "output_type": "execute_result"
    }
   ],
   "source": [
    "len(data)"
   ]
  },
  {
   "cell_type": "code",
   "execution_count": 26,
   "id": "782cbf17-f314-433e-8861-181df8c25956",
   "metadata": {},
   "outputs": [],
   "source": [
    "def split_data(data, train_percent, eval_percent, test_percent):\n",
    "    \n",
    "    assert train_percent + eval_percent + test_percent == 1.0, f\"The summation of all percentags must be 1.0, we got {train_percent + eval_percent + test_percent}\"\n",
    "    \n",
    "    train_range = [0, int( len(data) * train_percent )]\n",
    "    eval_range = [ train_range[1], int( len(data) * eval_percentage ) + train_range[1] ]\n",
    "    test_range = [eval_range[1], -1]\n",
    "    \n",
    "    return data[:train_range[1]], data[eval_range[0]:eval_range[1]], data[test_range[0]:]"
   ]
  },
  {
   "cell_type": "code",
   "execution_count": 27,
   "id": "354cd9f3-e00c-469c-aa9b-25ce6ebbf00b",
   "metadata": {},
   "outputs": [],
   "source": [
    "train_percentage = 0.8\n",
    "eval_percentage = 0.1\n",
    "test_percentage = 0.1\n",
    "\n",
    "train_set, eval_set, test_set = split_data(data, train_percentage, eval_percentage, test_percentage)"
   ]
  },
  {
   "cell_type": "markdown",
   "id": "ece2fbf1-2d73-41f8-89cc-69497f838746",
   "metadata": {
    "jp-MarkdownHeadingCollapsed": true,
    "tags": []
   },
   "source": [
    "## Split the data into Chunks"
   ]
  },
  {
   "cell_type": "markdown",
   "id": "a949f9f2-47d8-483b-9c9d-6ea52254c70f",
   "metadata": {},
   "source": [
    "We don't train the GPT-decoder all at once as it will take a lot of time to do that, instead, we split the data into chunks of **context_length** plus one.\n",
    "\n",
    "You might ask youtself why plus one? The reason why is when at each chunk, we try to predict the i+1. For instance, if the **context_length** is equal to 8:\n",
    "\n",
    "- at i=0, GPT predicts i+1=1\n",
    "- at i=1, GPT preducts i+1=2\n",
    ".\n",
    ".\n",
    ".\n",
    "\n",
    "To reach i=**context_length**, GPT predicts i+1=**context_length** + 1\n",
    "\n",
    "One more thing to mention is we do that as well to make the neural network to learn how to predict the next token from index equals **zero** to index equals **context_length**."
   ]
  },
  {
   "cell_type": "code",
   "execution_count": 31,
   "id": "203f553d-1c83-4e7d-a1ca-fbf566d8ced6",
   "metadata": {},
   "outputs": [
    {
     "name": "stdout",
     "output_type": "stream",
     "text": [
      "When the input is [18], GPT will try to predict 47\n",
      "When the input is [18, 47], GPT will try to predict 56\n",
      "When the input is [18, 47, 56], GPT will try to predict 57\n",
      "When the input is [18, 47, 56, 57], GPT will try to predict 58\n",
      "When the input is [18, 47, 56, 57, 58], GPT will try to predict 1\n",
      "When the input is [18, 47, 56, 57, 58, 1], GPT will try to predict 15\n",
      "When the input is [18, 47, 56, 57, 58, 1, 15], GPT will try to predict 47\n",
      "When the input is [18, 47, 56, 57, 58, 1, 15, 47], GPT will try to predict 58\n"
     ]
    }
   ],
   "source": [
    "CONTEXT_LENGTH = 8\n",
    "\n",
    "x = train_set[:CONTEXT_LENGTH]\n",
    "y = train_set[1:CONTEXT_LENGTH+1]\n",
    "\n",
    "for idx in range(CONTEXT_LENGTH):\n",
    "    context = x[:idx+1].tolist()\n",
    "    target = y[idx]\n",
    "    print(f\"When the input is {context}, GPT will try to predict {target}\")"
   ]
  },
  {
   "cell_type": "markdown",
   "id": "2b508a78-0480-49cd-84fe-090df203cb20",
   "metadata": {},
   "source": [
    "Moreover, we will add the batch size. We use batches to stack list of chunks on top of each other in order to keep the GPUS busy all the time. They run independently."
   ]
  },
  {
   "cell_type": "code",
   "execution_count": 32,
   "id": "80b1426e-5850-4ff3-bc8c-369c2be5c40a",
   "metadata": {},
   "outputs": [],
   "source": [
    "BATCH_SIZE = 4\n",
    "def get_batch(data, batch_size=BATCH_SIZE, context_length=CONTEXT_LENGTH):\n",
    "    \"\"\"\n",
    "    Function to generate small batch of data\n",
    "    \"\"\"\n",
    "    # get BATCH_SIZE random indexes within the dataset\n",
    "    # This will return torch.Tensor with 4 values, shape: [4]\n",
    "    indexes = torch.randint( len(data) - batch_size, (batch_size,) )  \n",
    "    # loop through each index and get the context data and finally stack them together to get torch.tensor of shape (BATCH_SIZE, CONTEXT_LENGTH) \n",
    "    x = torch.stack( [ data[ idx: idx+context_length ] for idx in indexes ] )\n",
    "    # loop through each index and get the target data and finally stack them together to get torch.tensor of shape (BATCH_SIZE, CONTEXT_LENGTH)\n",
    "    y = torch.stack( [ data[idx+1:idx+context_length+1] for idx in indexes ] )\n",
    "    \n",
    "    return x, y"
   ]
  },
  {
   "cell_type": "code",
   "execution_count": 59,
   "id": "4661d241-353a-46f5-bad1-4f0f5186e96f",
   "metadata": {},
   "outputs": [
    {
     "name": "stdout",
     "output_type": "stream",
     "text": [
      "x shape:  torch.Size([4, 8])\n",
      "y shape:  torch.Size([4, 8])\n"
     ]
    }
   ],
   "source": [
    "torch.manual_seed(100)\n",
    "\n",
    "x, y = get_batch(train_set)\n",
    "print(\"x shape: \", x.shape)\n",
    "print(\"y shape: \", y.shape)"
   ]
  },
  {
   "cell_type": "code",
   "execution_count": 60,
   "id": "7a81d760-aa0a-48b6-bcc4-582617bf4384",
   "metadata": {},
   "outputs": [
    {
     "data": {
      "text/plain": [
       "tensor([[61, 46, 47, 54,  1, 63, 53, 59],\n",
       "        [63,  1, 57, 43, 58,  1, 42, 53],\n",
       "        [58, 46, 47, 52, 49,  1, 63, 53],\n",
       "        [63,  1, 61, 47, 52, 45,  6,  0]])"
      ]
     },
     "execution_count": 60,
     "metadata": {},
     "output_type": "execute_result"
    }
   ],
   "source": [
    "x"
   ]
  },
  {
   "cell_type": "code",
   "execution_count": 61,
   "id": "46c30466-6373-4da3-8e49-aefb6d81e01e",
   "metadata": {},
   "outputs": [
    {
     "data": {
      "text/plain": [
       "tensor([[46, 47, 54,  1, 63, 53, 59,  1],\n",
       "        [ 1, 57, 43, 58,  1, 42, 53, 61],\n",
       "        [46, 47, 52, 49,  1, 63, 53, 59],\n",
       "        [ 1, 61, 47, 52, 45,  6,  0, 22]])"
      ]
     },
     "execution_count": 61,
     "metadata": {},
     "output_type": "execute_result"
    }
   ],
   "source": [
    "y"
   ]
  },
  {
   "cell_type": "code",
   "execution_count": 67,
   "id": "7a53cd3d-9bc4-4791-b3e0-1164dc644122",
   "metadata": {},
   "outputs": [
    {
     "name": "stdout",
     "output_type": "stream",
     "text": [
      "Input: [61], Output: 46\n",
      "Input: [61, 46], Output: 47\n",
      "Input: [61, 46, 47], Output: 54\n",
      "Input: [61, 46, 47, 54], Output: 1\n",
      "Input: [61, 46, 47, 54, 1], Output: 63\n",
      "Input: [61, 46, 47, 54, 1, 63], Output: 53\n",
      "Input: [61, 46, 47, 54, 1, 63, 53], Output: 59\n",
      "Input: [61, 46, 47, 54, 1, 63, 53, 59], Output: 1\n",
      "\n",
      "Input: [63], Output: 1\n",
      "Input: [63, 1], Output: 57\n",
      "Input: [63, 1, 57], Output: 43\n",
      "Input: [63, 1, 57, 43], Output: 58\n",
      "Input: [63, 1, 57, 43, 58], Output: 1\n",
      "Input: [63, 1, 57, 43, 58, 1], Output: 42\n",
      "Input: [63, 1, 57, 43, 58, 1, 42], Output: 53\n",
      "Input: [63, 1, 57, 43, 58, 1, 42, 53], Output: 61\n",
      "\n",
      "Input: [58], Output: 46\n",
      "Input: [58, 46], Output: 47\n",
      "Input: [58, 46, 47], Output: 52\n",
      "Input: [58, 46, 47, 52], Output: 49\n",
      "Input: [58, 46, 47, 52, 49], Output: 1\n",
      "Input: [58, 46, 47, 52, 49, 1], Output: 63\n",
      "Input: [58, 46, 47, 52, 49, 1, 63], Output: 53\n",
      "Input: [58, 46, 47, 52, 49, 1, 63, 53], Output: 59\n",
      "\n",
      "Input: [63], Output: 1\n",
      "Input: [63, 1], Output: 61\n",
      "Input: [63, 1, 61], Output: 47\n",
      "Input: [63, 1, 61, 47], Output: 52\n",
      "Input: [63, 1, 61, 47, 52], Output: 45\n",
      "Input: [63, 1, 61, 47, 52, 45], Output: 6\n",
      "Input: [63, 1, 61, 47, 52, 45, 6], Output: 0\n",
      "Input: [63, 1, 61, 47, 52, 45, 6, 0], Output: 22\n",
      "\n",
      "We have 32 to train on. This comes from BATCH_SIZE x CONTEXT_LENGTH = 4 x 8\n"
     ]
    }
   ],
   "source": [
    "examples_nb = 0\n",
    "for b in range(BATCH_SIZE):\n",
    "    for c in range(CONTEXT_LENGTH):\n",
    "        context = x[b, :c+1].tolist()\n",
    "        target = y[b, c]\n",
    "        print(f\"Input: {context}, Output: {target}\")\n",
    "        examples_nb += 1\n",
    "    print()\n",
    "    \n",
    "print(f\"We have {examples_nb} to train on. This comes from BATCH_SIZE x CONTEXT_LENGTH = {BATCH_SIZE} x {CONTEXT_LENGTH}\")"
   ]
  },
  {
   "cell_type": "markdown",
   "id": "56709e71-3f1f-4340-8675-54b6ce21c154",
   "metadata": {
    "tags": []
   },
   "source": [
    "## Build Bigram Language Model"
   ]
  },
  {
   "cell_type": "markdown",
   "id": "a8d34ee8-2673-49fb-a7f5-7a1949154f88",
   "metadata": {},
   "source": [
    "Now let's build the **Bigram Language Model** to feed the batches to it.\n",
    "\n",
    "For the lose function, we will use the **Negative log likelihood** function to calculate the loss between logits and target. To do that we can use **F.cross_entropy** from **torch**.\n",
    "\n",
    "**cross_entropy** expects the **vocab_size** to be the second dims, thus we will reshape the inputs and outputs."
   ]
  },
  {
   "cell_type": "code",
   "execution_count": 173,
   "id": "23d4761f-1159-4f45-9113-2faff644ebf2",
   "metadata": {},
   "outputs": [],
   "source": [
    "torch.manual_seed(100)\n",
    "\n",
    "class BigramLanguageModel(nn.Module):\n",
    "    \n",
    "    def __init__(self, vocab_size):\n",
    "        super().__init__()\n",
    "        self.embedding_table = nn.Embedding(vocab_size, vocab_size)\n",
    "        \n",
    "    def forward(self, context, targets=None):\n",
    "        \n",
    "        # this returns a torch.tensor with shape of (BATCH_SIZE, CONTEXT_LENGTH, VOCAB_SIZE)\n",
    "        # e.g. (4, 8, 65)\n",
    "        logits = self.embedding_table(context)\n",
    "        \n",
    "        if targets == None:\n",
    "            loss = None\n",
    "        \n",
    "        else:\n",
    "            B, C, V = logits.shape # e.g. (4, 8, 65)\n",
    "\n",
    "            # we're going to strech out the array, new shape: (BATCH_SIZE * CONTEXT_LENGTH, VOCAB_SIZE)\n",
    "            # e.g. (4*8, 65) == (32, 65)\n",
    "            logits = logits.view(B*C, V)\n",
    "\n",
    "            # and for the targets as well, we're going to change it's shape to be one dim\n",
    "            # e.g. (4*8) = (32)\n",
    "            targets = targets.view(B*C)\n",
    "            \n",
    "            # log likelihood is used to measure the quality of the prediction\n",
    "            loss = F.cross_entropy(input=logits, target=targets)\n",
    "        \n",
    "        return logits, loss\n",
    "    \n",
    "    \n",
    "    def generate(self, context, max_tokens, device=\"mps\"):\n",
    "        # Fist of all the context is with (B, C) shape\n",
    "        for _ in range(max_tokens):\n",
    "            # we get the prediction, the logits will be in (B, C, V) shape and the loss will be None\n",
    "            logits, loss = self(context)\n",
    "            # Focus only on the last character, this will change later\n",
    "            logits = logits[:, -1, :]\n",
    "            # get the probability distribuation where the sum of probabilities are equal to 1\n",
    "            probs = F.softmax(logits, dim=1)\n",
    "            # get random sample distribution from the probability\n",
    "            next_token = torch.multinomial(probs, num_samples=1)\n",
    "            # concatinate the generated token with the previous set of tokens\n",
    "            context = torch.cat((context, next_token), dim=1)\n",
    "        \n",
    "        return context"
   ]
  },
  {
   "cell_type": "code",
   "execution_count": 156,
   "id": "e78f09b0-3c23-411e-aad2-06e4a3043c56",
   "metadata": {},
   "outputs": [
    {
     "name": "stdout",
     "output_type": "stream",
     "text": [
      "torch.Size([32, 65])\n",
      "tensor(4.8401, grad_fn=<NllLossBackward0>)\n"
     ]
    }
   ],
   "source": [
    "bigram_model = BigramLanguageModel(vocab_size)\n",
    "\n",
    "logits, loss = bigram_model(x, y)\n",
    "print(logits.shape)\n",
    "print(loss)"
   ]
  },
  {
   "cell_type": "code",
   "execution_count": 111,
   "id": "ab0c2503-860e-41bc-8e7e-539955de27c9",
   "metadata": {},
   "outputs": [
    {
     "name": "stdout",
     "output_type": "stream",
     "text": [
      "[0, 44, 15, 9, 25, 9, 40, 15, 9, 39, 43, 8, 18, 51, 30, 14, 39, 48, 63, 48, 58, 61, 10, 33, 50, 61, 46, 12, 61, 45, 12, 15, 4, 8, 20, 43, 36, 44, 5, 14, 11, 17, 49, 20, 35, 27, 50, 22, 2, 6, 11, 50, 25, 19, 9, 23, 58, 2, 17, 49, 47, 30, 14, 11, 27, 3, 14, 31, 10, 34, 30, 50, 3, 35, 1, 55, 32, 57, 42, 58, 20, 35, 47, 27, 60, 46, 11, 8, 54, 17, 47, 41, 48, 19, 15, 42, 34, 2, 50, 31, 58]\n"
     ]
    },
    {
     "data": {
      "text/plain": [
       "\"\\nfC3M3bC3ae.FmRBajyjtw:Ulwh?wg?C&.HeXf'B;EkHWOlJ!,;lMG3Kt!EkiRB;O$BS:VRl$W qTsdtHWiOvh;.pEicjGCdV!lSt\""
      ]
     },
     "execution_count": 111,
     "metadata": {},
     "output_type": "execute_result"
    }
   ],
   "source": [
    "# Test\n",
    "test_idx = torch.zeros((1, 1), dtype=torch.long)\n",
    "generated_results = bigram_model.generate(test_idx, max_tokens=100)[0].tolist()\n",
    "print(generated_results)\n",
    "decoder(generated_results)"
   ]
  },
  {
   "cell_type": "markdown",
   "id": "cdcf5aac-59bc-4758-b46a-387285bb7805",
   "metadata": {
    "tags": []
   },
   "source": [
    "## Training the Bigram Language Model"
   ]
  },
  {
   "cell_type": "code",
   "execution_count": 164,
   "id": "8afdd5dc-1def-4484-9eb1-52bf695988fe",
   "metadata": {},
   "outputs": [],
   "source": [
    "def training_loop(model, data, epochs, optimizer, batch_size, context_length, device):\n",
    "    training_loss = []\n",
    "    model.to(device)\n",
    "    for epoch in range(epochs):\n",
    "        x, y = get_batch(data, batch_size, context_length)\n",
    "        x, y = x.to(device), y.to(device)\n",
    "\n",
    "        logits, loss = model(x, y)\n",
    "        optimizer.zero_grad(set_to_none=True)\n",
    "        loss.backward()\n",
    "        optimizer.step()\n",
    "\n",
    "        training_loss.append(loss.item())\n",
    "\n",
    "    return training_loss\n",
    "\n",
    "def plot_loss(loss_values):\n",
    "    \"\"\"\n",
    "    Plot the loss values over training epochs with a line plot.\n",
    "\n",
    "    Parameters:\n",
    "    - loss_values (list): List of loss values at each training epoch.\n",
    "    \"\"\"\n",
    "    epochs = range(1, len(loss_values) + 1)\n",
    "\n",
    "    # Plotting the loss values with a line plot\n",
    "    plt.plot(loss_values, label='Training Loss')\n",
    "\n",
    "    plt.title('Training Loss Over Epochs')\n",
    "    plt.xlabel('Epochs')\n",
    "    plt.ylabel('Loss')\n",
    "    plt.legend()\n",
    "\n",
    "    # Display the plot\n",
    "    plt.show()"
   ]
  },
  {
   "cell_type": "code",
   "execution_count": 174,
   "id": "60943be7-67ab-4523-9c09-bc865da2eaaa",
   "metadata": {},
   "outputs": [],
   "source": [
    "# define an optimizer\n",
    "device = 'mps'\n",
    "bigram_model = BigramLanguageModel(vocab_size)\n",
    "bigram_model = bigram_model.to(device)\n",
    "optimizer = torch.optim.AdamW(bigram_model.parameters(), lr=1e-2)"
   ]
  },
  {
   "cell_type": "code",
   "execution_count": 175,
   "id": "b353d99d-5ce5-47f6-b194-9c836a925ba7",
   "metadata": {},
   "outputs": [
    {
     "name": "stdout",
     "output_type": "stream",
     "text": [
      "Final Loss: 2.531816005706787\n"
     ]
    },
    {
     "data": {
      "image/png": "[encoded data removed]",
      "text/plain": [
       "<Figure size 640x480 with 1 Axes>"
      ]
     },
     "metadata": {},
     "output_type": "display_data"
    }
   ],
   "source": [
    "training_params = {\n",
    "    \"model\": bigram_model, \n",
    "    \"data\": train_set,\n",
    "    \"epochs\": 1000, \n",
    "    \"optimizer\": optimizer, \n",
    "    \"batch_size\": 32,\n",
    "    \"context_length\": 8, \n",
    "    \"device\": device\n",
    "}\n",
    "traning_loss = training_loop(**training_params)\n",
    "\n",
    "print(f\"Final Loss: {traning_loss[-1]}\")\n",
    "plot_loss(traning_loss)"
   ]
  },
  {
   "cell_type": "code",
   "execution_count": 177,
   "id": "b5e8054c-99db-43bc-9fc1-f0d17b279725",
   "metadata": {},
   "outputs": [
    {
     "data": {
      "text/plain": [
       "BigramLanguageModel(\n",
       "  (embedding_table): Embedding(65, 65)\n",
       ")"
      ]
     },
     "execution_count": 177,
     "metadata": {},
     "output_type": "execute_result"
    }
   ],
   "source": [
    "bigram_model.to('cpu')"
   ]
  },
  {
   "cell_type": "code",
   "execution_count": 179,
   "id": "c017fe0c-4fe4-462f-bc86-ec3d70652b88",
   "metadata": {},
   "outputs": [
    {
     "name": "stdout",
     "output_type": "stream",
     "text": [
      "\n",
      "WAny fen, cheata thoupe f t e,\n",
      "\n",
      "Ge nI: wsed ds, ho tI ay seathulol tesswfe ithupka, tad ucoubear thre o chowerS:\n",
      "PSSA ge,\n",
      "\n",
      "S:\n",
      "LY3KI lankHO:\n",
      "VI:\n",
      "F Grchbefouind Angge!\n",
      "I:\n",
      "WHMI r acougr m I hod\n",
      "S:\n",
      "WARDWeain, y d tfetobawotht thigs lde, ors an\n",
      "Sous pe tar nstiminarro se oucullitay'YOFowousire t s wo.\n",
      "Fo\n"
     ]
    }
   ],
   "source": [
    "# Test\n",
    "test_idx = torch.zeros((1, 1), dtype=torch.long)\n",
    "generated_results = bigram_model.generate(test_idx, max_tokens=300)[0].tolist()\n",
    "print(decoder(generated_results))"
   ]
  }
 ],
 "metadata": {
  "kernelspec": {
   "display_name": "Python 3 (ipykernel)",
   "language": "python",
   "name": "python3"
  },
  "language_info": {
   "codemirror_mode": {
    "name": "ipython",
    "version": 3
   },
   "file_extension": ".py",
   "mimetype": "text/x-python",
   "name": "python",
   "nbconvert_exporter": "python",
   "pygments_lexer": "ipython3",
   "version": "3.10.11"
  }
 },
 "nbformat": 4,
 "nbformat_minor": 5
}
