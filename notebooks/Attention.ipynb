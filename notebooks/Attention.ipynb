{
 "cells": [
  {
   "cell_type": "markdown",
   "id": "1932b08d-d717-4ab9-b82b-78f5a349f7af",
   "metadata": {},
   "source": [
    "# Attention Notebook"
   ]
  },
  {
   "cell_type": "markdown",
   "id": "7faa94dc-d9ec-4673-b3f6-a111177f85a2",
   "metadata": {},
   "source": [
    "## Import Libraries"
   ]
  },
  {
   "cell_type": "code",
   "execution_count": 2,
   "id": "8fe977a5-c539-4709-8244-cad77baf3d50",
   "metadata": {},
   "outputs": [],
   "source": [
    "import os\n",
    "\n",
    "import torch\n",
    "import torch.nn as nn\n",
    "from torch.nn import functional as F"
   ]
  },
  {
   "cell_type": "markdown",
   "id": "5609c650-2a0c-48fb-9018-6bdde92dedde",
   "metadata": {},
   "source": [
    "## Attention"
   ]
  },
  {
   "cell_type": "markdown",
   "id": "c95911fe-6a47-4be8-8d78-7221bb2c8d66",
   "metadata": {},
   "source": [
    "### Mathematical Trick in self-Attention"
   ]
  },
  {
   "cell_type": "code",
   "execution_count": 33,
   "id": "8be49163-a3be-407e-b1f9-242b1fbf71ee",
   "metadata": {},
   "outputs": [
    {
     "data": {
      "text/plain": [
       "torch.Size([4, 8, 2])"
      ]
     },
     "execution_count": 33,
     "metadata": {},
     "output_type": "execute_result"
    }
   ],
   "source": [
    "torch.manual_seed(1000)\n",
    "B, C, V = 4, 8, 2\n",
    "X = torch.rand(B, C, V)\n",
    "X.shape "
   ]
  },
  {
   "cell_type": "code",
   "execution_count": 34,
   "id": "41a932b8-a0b9-485b-9dd8-5ae3c8db2b42",
   "metadata": {},
   "outputs": [
    {
     "data": {
      "text/plain": [
       "tensor([[0.3189, 0.6136]])"
      ]
     },
     "execution_count": 34,
     "metadata": {},
     "output_type": "execute_result"
    }
   ],
   "source": [
    "X[0, :1]"
   ]
  },
  {
   "cell_type": "code",
   "execution_count": 35,
   "id": "9789b91c-0e4a-4fce-b3f8-c8e3863dd5a7",
   "metadata": {},
   "outputs": [
    {
     "data": {
      "text/plain": [
       "tensor([0.3189, 0.6136])"
      ]
     },
     "execution_count": 35,
     "metadata": {},
     "output_type": "execute_result"
    }
   ],
   "source": [
    "torch.mean(X[0, :1], 0)"
   ]
  },
  {
   "cell_type": "code",
   "execution_count": 67,
   "id": "90f2baff-425f-4251-b007-2200d9732e69",
   "metadata": {},
   "outputs": [],
   "source": [
    "# version 1\n",
    "xbow = torch.zeros((B, C, V))\n",
    "for b in range(B):\n",
    "    for t in range(C):\n",
    "        xprev = X[b, :t+1]\n",
    "        xbow[b, t] = torch.mean(xprev, 0)"
   ]
  },
  {
   "cell_type": "code",
   "execution_count": 38,
   "id": "f0d6bcc4-de1b-4cfd-86e4-f6f8311b3436",
   "metadata": {},
   "outputs": [
    {
     "data": {
      "text/plain": [
       "tensor([[0.3189, 0.6136],\n",
       "        [0.4418, 0.2580],\n",
       "        [0.2724, 0.6261],\n",
       "        [0.4410, 0.3653],\n",
       "        [0.3535, 0.5971],\n",
       "        [0.3572, 0.4807],\n",
       "        [0.4217, 0.1254],\n",
       "        [0.6818, 0.0571]])"
      ]
     },
     "execution_count": 38,
     "metadata": {},
     "output_type": "execute_result"
    }
   ],
   "source": [
    "X[0]"
   ]
  },
  {
   "cell_type": "code",
   "execution_count": 39,
   "id": "a93ee923-7703-4ccc-a558-376688531458",
   "metadata": {},
   "outputs": [
    {
     "data": {
      "text/plain": [
       "tensor([[0.3189, 0.6136],\n",
       "        [0.3804, 0.4358],\n",
       "        [0.3444, 0.4992],\n",
       "        [0.3685, 0.4657],\n",
       "        [0.3655, 0.4920],\n",
       "        [0.3641, 0.4901],\n",
       "        [0.3723, 0.4380],\n",
       "        [0.4110, 0.3904]])"
      ]
     },
     "execution_count": 39,
     "metadata": {},
     "output_type": "execute_result"
    }
   ],
   "source": [
    "xbow[0]"
   ]
  },
  {
   "cell_type": "code",
   "execution_count": 68,
   "id": "79b549c2-3334-4fb5-a92a-ab7fb40df9cd",
   "metadata": {},
   "outputs": [],
   "source": [
    "# version 2\n",
    "wei = torch.tril(torch.ones(C, C))\n",
    "wei = wei / torch.sum(wei, 1, keepdim=True)\n",
    "xbow2 = wei @ X # (C, C) @ (B, C, V) -----> (B, C, V)"
   ]
  },
  {
   "cell_type": "code",
   "execution_count": 65,
   "id": "af220479-66d8-4388-80e4-09b84f12ed15",
   "metadata": {},
   "outputs": [
    {
     "data": {
      "text/plain": [
       "tensor([[0.3189, 0.6136],\n",
       "        [0.3804, 0.4358],\n",
       "        [0.3444, 0.4992],\n",
       "        [0.3685, 0.4657],\n",
       "        [0.3655, 0.4920],\n",
       "        [0.3641, 0.4901],\n",
       "        [0.3723, 0.4380],\n",
       "        [0.4110, 0.3904]])"
      ]
     },
     "execution_count": 65,
     "metadata": {},
     "output_type": "execute_result"
    }
   ],
   "source": [
    "xbow2[0]"
   ]
  },
  {
   "cell_type": "code",
   "execution_count": 87,
   "id": "c2c743fd-7366-4eed-b7bd-1bc5c2b2baae",
   "metadata": {},
   "outputs": [],
   "source": [
    "# version 3: Softmax\n",
    "tril = torch.tril(torch.ones(C, C))\n",
    "wei = torch.zeros(C, C)\n",
    "wei = wei.masked_fill(tril==0, float('-inf'))\n",
    "wei = F.softmax(wei, dim=-1)\n",
    "xbow3 = wei @ X"
   ]
  },
  {
   "cell_type": "code",
   "execution_count": 88,
   "id": "9591835d-65b8-4501-ada0-ba3139b0777f",
   "metadata": {},
   "outputs": [
    {
     "data": {
      "text/plain": [
       "tensor([[0.3189, 0.6136],\n",
       "        [0.3804, 0.4358],\n",
       "        [0.3444, 0.4992],\n",
       "        [0.3685, 0.4657],\n",
       "        [0.3655, 0.4920],\n",
       "        [0.3641, 0.4901],\n",
       "        [0.3723, 0.4380],\n",
       "        [0.4110, 0.3904]])"
      ]
     },
     "execution_count": 88,
     "metadata": {},
     "output_type": "execute_result"
    }
   ],
   "source": [
    "xbow3[0]"
   ]
  }
 ],
 "metadata": {
  "kernelspec": {
   "display_name": "Python 3 (ipykernel)",
   "language": "python",
   "name": "python3"
  },
  "language_info": {
   "codemirror_mode": {
    "name": "ipython",
    "version": 3
   },
   "file_extension": ".py",
   "mimetype": "text/x-python",
   "name": "python",
   "nbconvert_exporter": "python",
   "pygments_lexer": "ipython3",
   "version": "3.10.11"
  }
 },
 "nbformat": 4,
 "nbformat_minor": 5
}
